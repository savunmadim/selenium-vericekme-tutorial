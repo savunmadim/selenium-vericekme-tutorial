{
 "cells": [
  {
   "cell_type": "code",
   "execution_count": 1,
   "id": "66560156-20e0-49d1-b68a-c0e5b83b17c8",
   "metadata": {},
   "outputs": [],
   "source": [
    "from selenium import webdriver\n",
    "from selenium.webdriver.common.by import By\n",
    "import time"
   ]
  },
  {
   "cell_type": "code",
   "execution_count": 9,
   "id": "8801d08a-8d03-4484-aeef-8ec4f494c78e",
   "metadata": {},
   "outputs": [
    {
     "name": "stdout",
     "output_type": "stream",
     "text": [
      "İlk site verileri:\n",
      "Largie Ramazani Almeria 1 1 4,0 2,0 73,7 2,0 2,0\n",
      "Victor Osimhen Galatasaray 11 9 3 3,9 1,9 67,3 0,1 2,4 2\n",
      "Juan Cazares Banfield 10 3 1 3,7 1,5 83,7 1,1 0,0 1\n",
      "Anderson Talisca Al Nassr 10 6 3,6 1,8 81,0 0,4 1,3 1\n",
      "Ragnar Ache Kaiserslautern 13 9 1 3,5 1,7 59,2 0,2 3,5 1\n",
      "Omar Marmoush Eintracht Frankfurt 15 13 7 3,5 1,9 78,5 0,5 0,4 2\n",
      "Erling Haaland Manchester City 19 14 1 3,4 2,2 66,7 0,2 1,5 2\n",
      "Viktor Gyökeres Sporting CP 15 18 1 3,3 2,2 73,7 0,1 1,4 1\n",
      "Kylian Mbappe Real Madrid 16 10 2 3,3 2,3 85,9 0,1 0,1 2\n",
      "Taty Castellano Lazio 16 7 1 3,3 1,7 63,8 0,1 2,8 5\n",
      "Luis Suarez Almeria 21 16 4 3,2 1,6 71,0 0,4 1,0 4\n",
      "Brian Fernandez Defensa y Justicia 13 4 3,2 1,2 69,3 0,2 0,5 1 1\n",
      "Aleksandar Mitrovic Al Hilal Riyadh 13 12 3,2 1,9 71,6 0,5 2,7 2\n",
      "Victor Boniface Bayer Leverkusen 10 6 1 3,2 1,5 73,8 0,3 2,3 1\n",
      "Mohamed Salah Liverpool 17 16 11 3,1 2,0 74,6 0,4 0,1 1\n",
      "Harry Kane Bayern Münih 13 14 5 3,1 1,7 81,6 0,2 0,8 2\n",
      "Krzysztof Piatek Başakşehir FK 16 12 1 3,1 1,6 71,3 0,3 2,8 3\n",
      "Cristiano Ronaldo Al Nassr 12 10 2 3,0 1,8 79,8 0,1 0,4 1\n",
      "Trezeguet Trabzonspor 1 3,0 1,0 83,9 0,0 1,0\n",
      "Karim Benzema Al Ittihad-Jeddah 10 10 3 3,0 2,1 82,8 0,2 0,3 1\n",
      "İkinci site verileri:\n",
      "Vitezslav Jaros Liverpool 1 0,0 0 1,0 100 100 0 100\n",
      "Martin Dubravka Newcastle United 3 0,0 3 1,3 100 100 100 75\n",
      "Gabriel Arias Defensa y Justicia 1 0,0 0 1,0 100 0 100 36\n",
      "Luiz Junior Famalicao 1 0,0 1 2,0 100 100 100 77 1\n",
      "Mohammed Al Yami Al Hilal Riyadh 2 0,0 2 3,0 100 100 100 87\n",
      "Mikhail Oparin FC Akhmat Grozny 1 0,0 1 2,0 100 100 0 44\n",
      "Rafn Valdimarsson Brentford 1 0,0 0 2,0 100 0 100 38\n",
      "Oscar Limia Arsenal Sarandi 2 0,0 1 1,0 100 100 0 67\n",
      "Vladislav Torop CSKA Moskova 1 0,0 1 2,0 100 100 100 89\n",
      "Akın Alkan Bandırmaspor 1 0,0 0 2,0 100 100 100 73\n",
      "Veysel Sapan Amed SK 1 0,0 1 4,0 100 100 100 100 1\n",
      "Anton Mitryushkin Lokomotiv Moscow 1 0,0 1 1,0 100 100 0 36\n",
      "Murat Uğur Eser Adana Demirspor 1 0,0 0 3,0 100 100 100 83\n",
      "Lukas Hornicek Sporting Braga 1 0,0 1 1,0 100 100 0 100\n",
      "Michael Brouwer Utrecht 1 0,0 1 3,0 100 100 100 58\n",
      "Diant Ramaj Ajax 1 0,0 1 2,0 100 100 100 100\n",
      "Juan Musso Atalanta 1 0,0 1 4,0 100 100 100 33\n",
      "Miguel Ferrandiz Elche 2 0,0 2 2,0 100 100 100 78\n",
      "Juan Musso Atletico Madrid 1 0,0 1 1,0 100 0 100 88\n",
      "Francisco Meixedo Estrela 1 0,0 0 3,0 100 100 100 82\n"
     ]
    }
   ],
   "source": [
    "driver = webdriver.Chrome()\n",
    "driver.get(\"https://arsiv.mackolik.com/Players/OptaList.aspx\")\n",
    "\n",
    "\n",
    "\n",
    "elements_site1 = driver.find_elements(By.CSS_SELECTOR, \".alt1.row, .alt2.row\")\n",
    "print(\"İlk site verileri:\")\n",
    "for element in elements_site1:\n",
    "    \n",
    "    print(element.text)\n",
    "\n",
    "\n",
    "\n",
    "\n",
    "\n",
    "driver.get(\"https://arsiv.mackolik.com/Keepers/OptaList.aspx\")\n",
    "time.sleep(5)\n",
    "elements_site2 = driver.find_elements(By.CSS_SELECTOR, \".alt1.row, .alt2.row\")\n",
    "print(\"\\nİkinci site verileri:\")\n",
    "for element in elements_site2:\n",
    "    print(element.text)\n",
    "\n",
    "\n",
    "\n",
    "driver.close()"
   ]
  },
  {
   "cell_type": "code",
   "execution_count": null,
   "id": "3de8f25a-bcb0-481d-939a-38f46dd7d539",
   "metadata": {},
   "outputs": [],
   "source": []
  }
 ],
 "metadata": {
  "kernelspec": {
   "display_name": "Python 3 (ipykernel)",
   "language": "python",
   "name": "python3"
  },
  "language_info": {
   "codemirror_mode": {
    "name": "ipython",
    "version": 3
   },
   "file_extension": ".py",
   "mimetype": "text/x-python",
   "name": "python",
   "nbconvert_exporter": "python",
   "pygments_lexer": "ipython3",
   "version": "3.13.1"
  }
 },
 "nbformat": 4,
 "nbformat_minor": 5
}
